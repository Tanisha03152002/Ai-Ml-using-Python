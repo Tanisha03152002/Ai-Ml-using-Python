{
  "nbformat": 4,
  "nbformat_minor": 0,
  "metadata": {
    "colab": {
      "name": "Calculator.ipynb",
      "provenance": [],
      "authorship_tag": "ABX9TyPszi98R1lLRAW2ufx+xh36"
    },
    "kernelspec": {
      "name": "python3",
      "display_name": "Python 3"
    },
    "language_info": {
      "name": "python"
    }
  },
  "cells": [
    {
      "cell_type": "code",
      "execution_count": 4,
      "metadata": {
        "colab": {
          "base_uri": "https://localhost:8080/"
        },
        "id": "USvg6yZnEF-s",
        "outputId": "032a574d-c25a-4157-c749-d572d7f91273"
      },
      "outputs": [
        {
          "output_type": "stream",
          "name": "stdout",
          "text": [
            "Enter the first number:4\n",
            "Enter the second number:2\n",
            "Enter the operator:(+ , - , % , / ,*)/\n",
            "Result: 2.0\n"
          ]
        }
      ],
      "source": [
        "# WELCOME TO CALCULATOR PROJECT\n",
        "\n",
        "a = input(\"Enter the first number:\")\n",
        "b = input(\"Enter the second number:\")\n",
        "operator = input(\"Enter the operator:(+ , - , % , / ,*)\")\n",
        "\n",
        "if operator == \"+\" :\n",
        "  print(\"Result:\", int(a)+int(b))\n",
        "elif operator == \"-\" :\n",
        "  print(\"Result:\", int(a)-int(b))\n",
        "elif operator == \"*\" :\n",
        "  print(\"Result:\", int(a)*int(b))\n",
        "elif operator == \"%\" :\n",
        "  print(\"Result:\", int(a)%int(b))\n",
        "elif operator == \"/\" :\n",
        "  print(\"Result:\", int(a)/int(b))\n",
        "else:\n",
        "  print(\"WRONG CHOICE!!!\")\n",
        "          \n"
      ]
    }
  ]
}