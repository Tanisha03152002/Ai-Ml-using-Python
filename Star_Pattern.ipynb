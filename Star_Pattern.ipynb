{
  "nbformat": 4,
  "nbformat_minor": 0,
  "metadata": {
    "colab": {
      "name": "Star Pattern.ipynb",
      "provenance": [],
      "authorship_tag": "ABX9TyPEErBdOnDZPy9vOeLBRLW5",
      "include_colab_link": true
    },
    "kernelspec": {
      "name": "python3",
      "display_name": "Python 3"
    },
    "language_info": {
      "name": "python"
    }
  },
  "cells": [
    {
      "cell_type": "markdown",
      "metadata": {
        "id": "view-in-github",
        "colab_type": "text"
      },
      "source": [
        "<a href=\"https://colab.research.google.com/github/Tanisha03152002/Ai-Ml-using-Python/blob/main/Star_Pattern.ipynb\" target=\"_parent\"><img src=\"https://colab.research.google.com/assets/colab-badge.svg\" alt=\"Open In Colab\"/></a>"
      ]
    },
    {
      "cell_type": "code",
      "execution_count": 7,
      "metadata": {
        "colab": {
          "base_uri": "https://localhost:8080/"
        },
        "id": "USvg6yZnEF-s",
        "outputId": "7ab4b011-6bfb-498b-8350-27ad6993e234"
      },
      "outputs": [
        {
          "output_type": "stream",
          "name": "stdout",
          "text": [
            "Enter the Number of rows:5\n",
            "*\n",
            "**\n",
            "***\n",
            "****\n",
            "*****\n"
          ]
        }
      ],
      "source": [
        "# Printing Pattern:\n",
        "#   *\n",
        "#   * *\n",
        "#   * * *\n",
        "#   * * * *\n",
        "i=1\n",
        "n = input(\"Enter the Number of rows:\")\n",
        "while i<= int(n):\n",
        "  print(i * \"*\")\n",
        "  i=i+1"
      ]
    }
  ]
}