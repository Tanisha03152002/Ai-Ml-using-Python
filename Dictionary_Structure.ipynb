{
  "nbformat": 4,
  "nbformat_minor": 0,
  "metadata": {
    "colab": {
      "name": "Dictionary_Structure.ipynb",
      "provenance": [],
      "authorship_tag": "ABX9TyPLy8nCAFSPA9a5kJvfFf+U"
    },
    "kernelspec": {
      "name": "python3",
      "display_name": "Python 3"
    },
    "language_info": {
      "name": "python"
    }
  },
  "cells": [
    {
      "cell_type": "code",
      "execution_count": 2,
      "metadata": {
        "colab": {
          "base_uri": "https://localhost:8080/"
        },
        "id": "0EYp93oBxg7z",
        "outputId": "5e7f9780-e868-4119-f670-a78425f2af3d"
      },
      "outputs": [
        {
          "output_type": "stream",
          "name": "stdout",
          "text": [
            "97\n",
            "{'English': 98, 'Maths': 97, 'Science': 92, 'Social Studies': 97}\n",
            "{'English': 99, 'Maths': 97, 'Science': 92, 'Social Studies': 97}\n"
          ]
        }
      ],
      "source": [
        "# To use Dictionary structure in python\n",
        "\n",
        "marks = {\"English\":98, \"Maths\":97, \"Science\":92}\n",
        "\n",
        "#To print original dictionary\n",
        "print(marks[\"Maths\"])\n",
        "\n",
        "#To add another subject marks\n",
        "marks[\"Social Studies\"] = 97\n",
        "print(marks)\n",
        "\n",
        "#Updating marks\n",
        "marks[\"English\"] = 99\n",
        "print(marks)"
      ]
    }
  ]
}